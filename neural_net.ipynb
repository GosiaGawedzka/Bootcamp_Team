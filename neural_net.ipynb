{
 "cells": [
  {
   "cell_type": "code",
   "execution_count": 24,
   "metadata": {},
   "outputs": [],
   "source": [
    "import pandas as pd\n",
    "import tensorflow as tf\n",
    "import matplotlib.pyplot as plt\n",
    "from sklearn.metrics import classification_report\n",
    "from sklearn.metrics import confusion_matrix\n",
    "from sklearn.metrics import RocCurveDisplay\n",
    "from sklearn import metrics"
   ]
  },
  {
   "cell_type": "code",
   "execution_count": 25,
   "metadata": {},
   "outputs": [],
   "source": [
    "def toNumeric(df): \n",
    "    if 'gender' in df.columns:\n",
    "        df['gender'].replace('female',0,inplace=True)\n",
    "        df['gender'].replace('male',1,inplace=True)\n",
    "    if 'test_indication' in df.columns:\n",
    "        df['test_indication_other'] = df['test_indication'].apply(lambda x: 1 if x =='Other' else 0)\n",
    "        df['test_indication_abroad'] = df['test_indication'].apply(lambda x: 1 if x =='Abroad' else 0)\n",
    "        df['test_indication_contact'] = df['test_indication'].apply(lambda x: 1 if x =='Contact with confirmed' else 0)\n",
    "        df.drop(['test_indication'], axis=1, inplace=True)\n",
    "    if 'age_60_and_above' in df.columns:\n",
    "        df['age_60_and_above'].replace('No',0,inplace=True)\n",
    "        df['age_60_and_above'].replace('Yes',1,inplace=True)\n",
    "    if 'corona_result' in df.columns:\n",
    "        df['corona_result'].replace('positive',1,inplace=True)\n",
    "        df['corona_result'].replace('negative',0,inplace=True)\n",
    "    return df"
   ]
  },
  {
   "cell_type": "code",
   "execution_count": 26,
   "metadata": {},
   "outputs": [],
   "source": [
    "X_train = pd.read_csv('X_train.csv', index_col=0)\n",
    "X_val = pd.read_csv('X_val.csv', index_col=0)\n",
    "y_train = pd.read_csv('y_train.csv', index_col=0)\n",
    "y_val = pd.read_csv('y_val.csv', index_col=0)\n",
    "\n",
    "test_df = pd.read_csv('test_df.csv', index_col=0)\n",
    "y_test = pd.DataFrame(test_df['corona_result'])\n",
    "X_test = test_df.drop('corona_result',axis=1)\n",
    "\n",
    "# Convert to numeric input for neural net\n",
    "X_train.drop(['test_date','DateTime'], axis=1, inplace=True)\n",
    "X_test.drop(['test_date','DateTime'], axis=1, inplace=True)\n",
    "\n",
    "X_train = toNumeric(X_train)\n",
    "X_test = toNumeric(X_test)\n",
    "y_train = toNumeric(y_train)\n",
    "y_test = toNumeric(y_test)"
   ]
  },
  {
   "cell_type": "code",
   "execution_count": 27,
   "metadata": {},
   "outputs": [
    {
     "name": "stdout",
     "output_type": "stream",
     "text": [
      "Epoch 1/30\n",
      "1330/1330 [==============================] - 2s 1ms/step - loss: 0.3042 - accuracy: 0.8983\n",
      "Epoch 2/30\n",
      "1330/1330 [==============================] - 2s 1ms/step - loss: 0.2231 - accuracy: 0.9099\n",
      "Epoch 3/30\n",
      "1330/1330 [==============================] - 2s 1ms/step - loss: 0.2143 - accuracy: 0.9109\n",
      "Epoch 4/30\n",
      "1330/1330 [==============================] - 2s 2ms/step - loss: 0.2096 - accuracy: 0.9111\n",
      "Epoch 5/30\n",
      "1330/1330 [==============================] - 2s 1ms/step - loss: 0.2064 - accuracy: 0.9117: 0s - los\n",
      "Epoch 6/30\n",
      "1330/1330 [==============================] - 1s 1ms/step - loss: 0.2040 - accuracy: 0.9115\n",
      "Epoch 7/30\n",
      "1330/1330 [==============================] - 2s 1ms/step - loss: 0.2024 - accuracy: 0.9124\n",
      "Epoch 8/30\n",
      "1330/1330 [==============================] - 1s 1ms/step - loss: 0.2013 - accuracy: 0.9127\n",
      "Epoch 9/30\n",
      "1330/1330 [==============================] - 2s 1ms/step - loss: 0.2005 - accuracy: 0.9132\n",
      "Epoch 10/30\n",
      "1330/1330 [==============================] - 2s 1ms/step - loss: 0.1998 - accuracy: 0.9129\n",
      "Epoch 11/30\n",
      "1330/1330 [==============================] - 2s 1ms/step - loss: 0.1992 - accuracy: 0.9132\n",
      "Epoch 12/30\n",
      "1330/1330 [==============================] - 2s 1ms/step - loss: 0.1986 - accuracy: 0.9134\n",
      "Epoch 13/30\n",
      "1330/1330 [==============================] - 2s 1ms/step - loss: 0.1981 - accuracy: 0.9131\n",
      "Epoch 14/30\n",
      "1330/1330 [==============================] - 2s 1ms/step - loss: 0.1977 - accuracy: 0.9136\n",
      "Epoch 15/30\n",
      "1330/1330 [==============================] - 2s 1ms/step - loss: 0.1975 - accuracy: 0.9142\n",
      "Epoch 16/30\n",
      "1330/1330 [==============================] - 2s 1ms/step - loss: 0.1971 - accuracy: 0.9139\n",
      "Epoch 17/30\n",
      "1330/1330 [==============================] - 2s 1ms/step - loss: 0.1967 - accuracy: 0.9141\n",
      "Epoch 18/30\n",
      "1330/1330 [==============================] - 2s 1ms/step - loss: 0.1964 - accuracy: 0.9144\n",
      "Epoch 19/30\n",
      "1330/1330 [==============================] - 2s 1ms/step - loss: 0.1961 - accuracy: 0.9141\n",
      "Epoch 20/30\n",
      "1330/1330 [==============================] - 2s 1ms/step - loss: 0.1959 - accuracy: 0.9148\n",
      "Epoch 21/30\n",
      "1330/1330 [==============================] - 2s 1ms/step - loss: 0.1957 - accuracy: 0.9148\n",
      "Epoch 22/30\n",
      "1330/1330 [==============================] - 2s 1ms/step - loss: 0.1955 - accuracy: 0.9157\n",
      "Epoch 23/30\n",
      "1330/1330 [==============================] - 2s 1ms/step - loss: 0.1954 - accuracy: 0.9153\n",
      "Epoch 24/30\n",
      "1330/1330 [==============================] - 2s 1ms/step - loss: 0.1952 - accuracy: 0.9157\n",
      "Epoch 25/30\n",
      "1330/1330 [==============================] - 2s 2ms/step - loss: 0.1951 - accuracy: 0.9156\n",
      "Epoch 26/30\n",
      "1330/1330 [==============================] - 2s 2ms/step - loss: 0.1949 - accuracy: 0.9155\n",
      "Epoch 27/30\n",
      "1330/1330 [==============================] - 2s 1ms/step - loss: 0.1948 - accuracy: 0.9154\n",
      "Epoch 28/30\n",
      "1330/1330 [==============================] - 2s 1ms/step - loss: 0.1947 - accuracy: 0.9156\n",
      "Epoch 29/30\n",
      "1330/1330 [==============================] - 2s 1ms/step - loss: 0.1947 - accuracy: 0.9147\n",
      "Epoch 30/30\n",
      "1330/1330 [==============================] - 2s 1ms/step - loss: 0.1946 - accuracy: 0.9154\n"
     ]
    },
    {
     "data": {
      "image/png": "[encoded data removed]",
      "text/plain": [
       "<Figure size 432x288 with 1 Axes>"
      ]
     },
     "metadata": {
      "needs_background": "light"
     },
     "output_type": "display_data"
    },
    {
     "data": {
      "image/png": "[encoded data removed]",
      "text/plain": [
       "<Figure size 432x288 with 1 Axes>"
      ]
     },
     "metadata": {
      "needs_background": "light"
     },
     "output_type": "display_data"
    }
   ],
   "source": [
    "## Create and Train Neural Net Model\n",
    "\n",
    "model = tf.keras.Sequential([\n",
    " \n",
    "  # Flatten Layer that converts images to 1D array\n",
    "#   tf.keras.layers.Flatten(),\n",
    "   \n",
    "  # Hidden Layer with 512 units and relu activation\n",
    "  tf.keras.layers.Dense(units=8, activation='relu', input_dim=len(X_train.columns)),\n",
    "  # tf.keras.layers.Dense(units=64, activation='relu', input_dim=len(X_train.columns)),\n",
    "  tf.keras.layers.Dense(units=8, activation='relu', input_dim=len(X_train.columns)),\n",
    "   \n",
    "  # Output Layer with 10 units for 10 classes and softmax activation\n",
    "  tf.keras.layers.Dense(units=1, activation='sigmoid')\n",
    "])\n",
    "model.compile(\n",
    "  loss = 'binary_crossentropy',\n",
    "  optimizer = 'sgd',\n",
    "  metrics = ['accuracy']\n",
    ")\n",
    " \n",
    "history = model.fit(\n",
    "  x = X_train,\n",
    "  y = y_train,\n",
    "  epochs = 30\n",
    ")\n",
    "# Showing plot for loss\n",
    "plt.plot(history.history['loss'])\n",
    "plt.xlabel('epochs')\n",
    "plt.legend(['loss'])\n",
    "plt.show()\n",
    " \n",
    "# Showing plot for accuracy\n",
    "plt.plot(history.history['accuracy'], color='orange')\n",
    "plt.xlabel('epochs')\n",
    "plt.legend(['accuracy'])\n",
    "plt.show()"
   ]
  },
  {
   "cell_type": "code",
   "execution_count": 28,
   "metadata": {},
   "outputs": [
    {
     "name": "stdout",
     "output_type": "stream",
     "text": [
      "49742\n",
      "              precision    recall  f1-score   support\n",
      "\n",
      "           0       0.94      0.98      0.96     46138\n",
      "           1       0.41      0.14      0.21      3604\n",
      "\n",
      "    accuracy                           0.92     49742\n",
      "   macro avg       0.67      0.56      0.59     49742\n",
      "weighted avg       0.90      0.92      0.91     49742\n",
      "\n",
      "[[45399   739]\n",
      " [ 3092   512]]\n",
      "ROC AUC  0.5630236035126778\n"
     ]
    },
    {
     "data": {
      "image/png": "[encoded data removed]",
      "text/plain": [
       "<Figure size 432x288 with 1 Axes>"
      ]
     },
     "metadata": {
      "needs_background": "light"
     },
     "output_type": "display_data"
    }
   ],
   "source": [
    "## Test and Evaluate Neural Net\n",
    "def sig(num):\n",
    "    if num < 0.5:\n",
    "        return 0\n",
    "    else:\n",
    "        return 1\n",
    "r_predictions = model.predict(X_test)\n",
    "predictions = []\n",
    "for p in r_predictions:\n",
    "    predictions.append([sig(p)])\n",
    "print(len(predictions))\n",
    "print(classification_report(y_test, predictions))\n",
    "print(confusion_matrix(y_test,predictions))\n",
    "\n",
    "fpr, tpr, thresholds = metrics.roc_curve(y_test, predictions)\n",
    "roc_auc = metrics.auc(fpr, tpr)\n",
    "print('ROC AUC ', roc_auc)\n",
    "display = metrics.RocCurveDisplay(fpr=fpr, tpr=tpr, roc_auc=roc_auc, estimator_name='example estimator')\n",
    "display.plot()\n",
    "plt.show()\n",
    "\n"
   ]
  }
 ],
 "metadata": {
  "kernelspec": {
   "display_name": "Python 3.9.5 64-bit",
   "language": "python",
   "name": "python3"
  },
  "language_info": {
   "codemirror_mode": {
    "name": "ipython",
    "version": 3
   },
   "file_extension": ".py",
   "mimetype": "text/x-python",
   "name": "python",
   "nbconvert_exporter": "python",
   "pygments_lexer": "ipython3",
   "version": "3.9.5"
  },
  "orig_nbformat": 4,
  "vscode": {
   "interpreter": {
    "hash": "b77fa4826a493d312e52680f2e3c9ece3059839cd71e8ae939791acca97cbb84"
   }
  }
 },
 "nbformat": 4,
 "nbformat_minor": 2
}
