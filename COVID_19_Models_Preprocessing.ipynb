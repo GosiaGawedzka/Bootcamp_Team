{
 "cells": [
  {
   "cell_type": "markdown",
   "metadata": {},
   "source": [
    "##  machine learning models to predict COVID-19 infections from symptoms."
   ]
  },
  {
   "cell_type": "code",
   "execution_count": null,
   "metadata": {},
   "outputs": [],
   "source": [
    "# Zoabi et al Decision Tree : the challenges and ways to overcome them.\n",
    "# data: Israeli Ministry of Health\n"
   ]
  },
  {
   "cell_type": "code",
   "execution_count": null,
   "metadata": {},
   "outputs": [],
   "source": []
  },
  {
   "cell_type": "markdown",
   "metadata": {},
   "source": [
    "## Data Pre-processing\n"
   ]
  },
  {
   "cell_type": "code",
   "execution_count": 1,
   "metadata": {},
   "outputs": [],
   "source": [
    "# import libraries\n",
    "\n",
    "# import packages \n",
    "import pandas as pd\n",
    "import numpy as np\n",
    "import seaborn as sns\n",
    "import matplotlib as plt\n",
    "import matplotlib.pyplot as plt"
   ]
  },
  {
   "cell_type": "code",
   "execution_count": 32,
   "metadata": {},
   "outputs": [
    {
     "name": "stderr",
     "output_type": "stream",
     "text": [
      "C:\\Users\\gawedm\\Anaconda3\\lib\\site-packages\\IPython\\core\\interactiveshell.py:3146: DtypeWarning: Columns (7,8) have mixed types.Specify dtype option on import or set low_memory=False.\n",
      "  has_raised = await self.run_ast_nodes(code_ast.body, cell_name,\n"
     ]
    }
   ],
   "source": [
    "# import dataset \n",
    "\n",
    "df = pd.read_csv('data/corona_tested_individuals_ver_00220.english/corona_tested_individuals_ver_00220.english.csv')\n"
   ]
  },
  {
   "cell_type": "code",
   "execution_count": 33,
   "metadata": {},
   "outputs": [],
   "source": [
    "# remove rows with missing data\n",
    "\n",
    "df = df.dropna()"
   ]
  },
  {
   "cell_type": "code",
   "execution_count": 34,
   "metadata": {},
   "outputs": [],
   "source": [
    "# remove other test result \n",
    "\n",
    "df= df[df['corona_result'] != 'other']"
   ]
  },
  {
   "cell_type": "code",
   "execution_count": 35,
   "metadata": {},
   "outputs": [
    {
     "data": {
      "text/plain": [
       "0    2022-01-30\n",
       "1    2022-01-30\n",
       "2    2022-01-30\n",
       "3    2022-01-30\n",
       "4    2022-01-30\n",
       "Name: test_date, dtype: object"
      ]
     },
     "execution_count": 35,
     "metadata": {},
     "output_type": "execute_result"
    }
   ],
   "source": [
    "df['test_date'].head()"
   ]
  },
  {
   "cell_type": "code",
   "execution_count": 36,
   "metadata": {},
   "outputs": [],
   "source": [
    "# convert object to datetime\n",
    "df['DateTime'] = pd.to_datetime(df['test_date'])\n"
   ]
  },
  {
   "cell_type": "code",
   "execution_count": 37,
   "metadata": {},
   "outputs": [
    {
     "data": {
      "text/plain": [
       "0   2022-01-30\n",
       "1   2022-01-30\n",
       "2   2022-01-30\n",
       "3   2022-01-30\n",
       "4   2022-01-30\n",
       "Name: DateTime, dtype: datetime64[ns]"
      ]
     },
     "execution_count": 37,
     "metadata": {},
     "output_type": "execute_result"
    }
   ],
   "source": [
    "df['DateTime'].head()"
   ]
  },
  {
   "cell_type": "code",
   "execution_count": 38,
   "metadata": {},
   "outputs": [],
   "source": [
    "# filter training dataset\n",
    "\n",
    "# the training-validation set from 22nd March 2020 to 31st March 2020\n",
    "start_date_train = \"2020-03-22\"\n",
    "end_date_train =  \"2020-03-31\"\n",
    "\n",
    "after_start_date_train = df[\"DateTime\"] >= start_date_train\n",
    "before_end_date_train= df[\"DateTime\"] <= end_date_train\n",
    "between_two_dates_train = after_start_date_train & before_end_date_train\n",
    "\n",
    "train_df = df.loc[between_two_dates_train]\n",
    "\n"
   ]
  },
  {
   "cell_type": "code",
   "execution_count": 39,
   "metadata": {},
   "outputs": [
    {
     "data": {
      "text/plain": [
       "(53163, 11)"
      ]
     },
     "execution_count": 39,
     "metadata": {},
     "output_type": "execute_result"
    }
   ],
   "source": [
    "train_df.shape"
   ]
  },
  {
   "cell_type": "code",
   "execution_count": 43,
   "metadata": {},
   "outputs": [],
   "source": [
    "# spliting training dataset into training and validation datasets at a ratio of 4:1 \n",
    "\n",
    "from sklearn.model_selection import train_test_split\n",
    "\n",
    "X = train_df.drop(columns = ['corona_result']).copy()\n",
    "y = train_df['corona_result']\n",
    "\n",
    "# split the data in training and validation dataset\n",
    "X_train, X_val, y_train, y_val = train_test_split(X,y, train_size=0.8)\n"
   ]
  },
  {
   "cell_type": "code",
   "execution_count": 40,
   "metadata": {},
   "outputs": [],
   "source": [
    "# filter the testing dataset\n",
    "\n",
    "# the test set contained data from the subsequent week from 1st April to 7th April.\n",
    "\n",
    "start_date_test = \"2020-04-01\"\n",
    "end_date_test =  \"2020-04-07\"\n",
    "\n",
    "after_start_date_test = df[\"DateTime\"] >= start_date_test\n",
    "before_end_date_test= df[\"DateTime\"] <= end_date_test\n",
    "between_two_dates_test = after_start_date_test & before_end_date_test\n",
    "\n",
    "test_df = df.loc[between_two_dates_test]"
   ]
  },
  {
   "cell_type": "code",
   "execution_count": 41,
   "metadata": {},
   "outputs": [
    {
     "data": {
      "text/plain": [
       "(49742, 11)"
      ]
     },
     "execution_count": 41,
     "metadata": {},
     "output_type": "execute_result"
    }
   ],
   "source": [
    "test_df.shape"
   ]
  },
  {
   "cell_type": "code",
   "execution_count": 44,
   "metadata": {},
   "outputs": [],
   "source": [
    "# save datasets \n",
    "# save to csv\n",
    "\n",
    "\n",
    "#X_train\n",
    "X_train.to_csv(r\"data/X_train.csv\")\n",
    "\n",
    "#X_val\n",
    "X_val.to_csv(r\"data/X_val.csv\")\n",
    "\n",
    "# y_train\n",
    "y_train.to_csv(r\"data/y_train.csv\")\n",
    "\n",
    "# y_val\n",
    "y_val.to_csv(r\"data/y_val.csv\")\n",
    "\n",
    "# test dataframe\n",
    "test_df.to_csv(r\"data/test_df.csv\")"
   ]
  },
  {
   "cell_type": "code",
   "execution_count": null,
   "metadata": {},
   "outputs": [],
   "source": []
  }
 ],
 "metadata": {
  "kernelspec": {
   "display_name": "Python 3",
   "language": "python",
   "name": "python3"
  },
  "language_info": {
   "codemirror_mode": {
    "name": "ipython",
    "version": 3
   },
   "file_extension": ".py",
   "mimetype": "text/x-python",
   "name": "python",
   "nbconvert_exporter": "python",
   "pygments_lexer": "ipython3",
   "version": "3.8.5"
  }
 },
 "nbformat": 4,
 "nbformat_minor": 4
}
